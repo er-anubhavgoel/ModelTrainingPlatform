{
 "cells": [
  {
   "cell_type": "code",
   "execution_count": 1,
   "id": "1ea34f9f",
   "metadata": {},
   "outputs": [],
   "source": [
    "import pandas as pd\n",
    "import numpy as np\n",
    "from matplotlib import pyplot as plt\n",
    "%matplotlib inline\n",
    "import matplotlib\n",
    "matplotlib.rcParams[\"figure.figsize\"] = (20,10)"
   ]
  },
  {
   "cell_type": "code",
   "execution_count": 2,
   "id": "b00cee00",
   "metadata": {},
   "outputs": [
    {
     "name": "stdout",
     "output_type": "stream",
     "text": [
      "~~~Welcome~~~\n",
      "Enter the name of the Dataset: Bengaluru_House_Data.csv\n"
     ]
    }
   ],
   "source": [
    "print(\"~~~Welcome~~~\")\n",
    "dataset = input(\"Enter the name of the Dataset: \")"
   ]
  },
  {
   "cell_type": "code",
   "execution_count": 3,
   "id": "65b74a9a",
   "metadata": {},
   "outputs": [
    {
     "data": {
      "text/html": [
       "<div>\n",
       "<style scoped>\n",
       "    .dataframe tbody tr th:only-of-type {\n",
       "        vertical-align: middle;\n",
       "    }\n",
       "\n",
       "    .dataframe tbody tr th {\n",
       "        vertical-align: top;\n",
       "    }\n",
       "\n",
       "    .dataframe thead th {\n",
       "        text-align: right;\n",
       "    }\n",
       "</style>\n",
       "<table border=\"1\" class=\"dataframe\">\n",
       "  <thead>\n",
       "    <tr style=\"text-align: right;\">\n",
       "      <th></th>\n",
       "      <th>area_type</th>\n",
       "      <th>availability</th>\n",
       "      <th>location</th>\n",
       "      <th>size</th>\n",
       "      <th>society</th>\n",
       "      <th>total_sqft</th>\n",
       "      <th>bath</th>\n",
       "      <th>balcony</th>\n",
       "      <th>price</th>\n",
       "    </tr>\n",
       "  </thead>\n",
       "  <tbody>\n",
       "    <tr>\n",
       "      <th>0</th>\n",
       "      <td>Super built-up  Area</td>\n",
       "      <td>19-Dec</td>\n",
       "      <td>Electronic City Phase II</td>\n",
       "      <td>2 BHK</td>\n",
       "      <td>Coomee</td>\n",
       "      <td>1056</td>\n",
       "      <td>2.0</td>\n",
       "      <td>1.0</td>\n",
       "      <td>39.07</td>\n",
       "    </tr>\n",
       "    <tr>\n",
       "      <th>1</th>\n",
       "      <td>Plot  Area</td>\n",
       "      <td>Ready To Move</td>\n",
       "      <td>Chikka Tirupathi</td>\n",
       "      <td>4 Bedroom</td>\n",
       "      <td>Theanmp</td>\n",
       "      <td>2600</td>\n",
       "      <td>5.0</td>\n",
       "      <td>3.0</td>\n",
       "      <td>120.00</td>\n",
       "    </tr>\n",
       "    <tr>\n",
       "      <th>2</th>\n",
       "      <td>Built-up  Area</td>\n",
       "      <td>Ready To Move</td>\n",
       "      <td>Uttarahalli</td>\n",
       "      <td>3 BHK</td>\n",
       "      <td>NaN</td>\n",
       "      <td>1440</td>\n",
       "      <td>2.0</td>\n",
       "      <td>3.0</td>\n",
       "      <td>62.00</td>\n",
       "    </tr>\n",
       "    <tr>\n",
       "      <th>3</th>\n",
       "      <td>Super built-up  Area</td>\n",
       "      <td>Ready To Move</td>\n",
       "      <td>Lingadheeranahalli</td>\n",
       "      <td>3 BHK</td>\n",
       "      <td>Soiewre</td>\n",
       "      <td>1521</td>\n",
       "      <td>3.0</td>\n",
       "      <td>1.0</td>\n",
       "      <td>95.00</td>\n",
       "    </tr>\n",
       "    <tr>\n",
       "      <th>4</th>\n",
       "      <td>Super built-up  Area</td>\n",
       "      <td>Ready To Move</td>\n",
       "      <td>Kothanur</td>\n",
       "      <td>2 BHK</td>\n",
       "      <td>NaN</td>\n",
       "      <td>1200</td>\n",
       "      <td>2.0</td>\n",
       "      <td>1.0</td>\n",
       "      <td>51.00</td>\n",
       "    </tr>\n",
       "  </tbody>\n",
       "</table>\n",
       "</div>"
      ],
      "text/plain": [
       "              area_type   availability                  location       size  \\\n",
       "0  Super built-up  Area         19-Dec  Electronic City Phase II      2 BHK   \n",
       "1            Plot  Area  Ready To Move          Chikka Tirupathi  4 Bedroom   \n",
       "2        Built-up  Area  Ready To Move               Uttarahalli      3 BHK   \n",
       "3  Super built-up  Area  Ready To Move        Lingadheeranahalli      3 BHK   \n",
       "4  Super built-up  Area  Ready To Move                  Kothanur      2 BHK   \n",
       "\n",
       "   society total_sqft  bath  balcony   price  \n",
       "0  Coomee        1056   2.0      1.0   39.07  \n",
       "1  Theanmp       2600   5.0      3.0  120.00  \n",
       "2      NaN       1440   2.0      3.0   62.00  \n",
       "3  Soiewre       1521   3.0      1.0   95.00  \n",
       "4      NaN       1200   2.0      1.0   51.00  "
      ]
     },
     "execution_count": 3,
     "metadata": {},
     "output_type": "execute_result"
    }
   ],
   "source": [
    "df1 = pd.read_csv(dataset)\n",
    "df1.head(5)"
   ]
  },
  {
   "cell_type": "code",
   "execution_count": null,
   "id": "faaeeeec",
   "metadata": {},
   "outputs": [
    {
     "name": "stdout",
     "output_type": "stream",
     "text": [
      "Enter the unnecessary attributes to remove from the dataset, that you feel will not impact the Machine Learning model if removed!\n",
      "\n"
     ]
    }
   ],
   "source": [
    "print(\"Enter the unnecessary attributes to remove from the dataset, that you feel will not impact the Machine Learning model if removed!\\n\")\n",
    "def remove_unnecessary_attributes():\n",
    "    drop_columns = input(\"Enter the columns to drop, separated by commas: \")\n",
    "    df2 = df1.drop(drop_columns.split(\",\"), axis=1)\n",
    "    print(\"\\nUnnecessary Attributes removed!\\n\")\n",
    "    return df2\n",
    "\n",
    "uar = input(\"Enter if there are any unnecessary attributes (Y or N): \")\n",
    "df2 = df1\n",
    "if (uar == \"Y\" or uar == \"y\"):\n",
    "    df2 = remove_unnecessary_attributes()\n",
    "    \n",
    "totalRows = df2.shape[0]\n",
    "df2.head(5)"
   ]
  },
  {
   "cell_type": "code",
   "execution_count": 5,
   "id": "6494c654",
   "metadata": {},
   "outputs": [
    {
     "data": {
      "text/html": [
       "<div>\n",
       "<style scoped>\n",
       "    .dataframe tbody tr th:only-of-type {\n",
       "        vertical-align: middle;\n",
       "    }\n",
       "\n",
       "    .dataframe tbody tr th {\n",
       "        vertical-align: top;\n",
       "    }\n",
       "\n",
       "    .dataframe thead th {\n",
       "        text-align: right;\n",
       "    }\n",
       "</style>\n",
       "<table border=\"1\" class=\"dataframe\">\n",
       "  <thead>\n",
       "    <tr style=\"text-align: right;\">\n",
       "      <th></th>\n",
       "      <th>location</th>\n",
       "      <th>size</th>\n",
       "      <th>total_sqft</th>\n",
       "      <th>bath</th>\n",
       "      <th>price</th>\n",
       "    </tr>\n",
       "  </thead>\n",
       "  <tbody>\n",
       "    <tr>\n",
       "      <th>0</th>\n",
       "      <td>Electronic City Phase II</td>\n",
       "      <td>2 BHK</td>\n",
       "      <td>1056</td>\n",
       "      <td>2.0</td>\n",
       "      <td>39.07</td>\n",
       "    </tr>\n",
       "    <tr>\n",
       "      <th>1</th>\n",
       "      <td>Chikka Tirupathi</td>\n",
       "      <td>4 Bedroom</td>\n",
       "      <td>2600</td>\n",
       "      <td>5.0</td>\n",
       "      <td>120.00</td>\n",
       "    </tr>\n",
       "    <tr>\n",
       "      <th>2</th>\n",
       "      <td>Uttarahalli</td>\n",
       "      <td>3 BHK</td>\n",
       "      <td>1440</td>\n",
       "      <td>2.0</td>\n",
       "      <td>62.00</td>\n",
       "    </tr>\n",
       "    <tr>\n",
       "      <th>3</th>\n",
       "      <td>Lingadheeranahalli</td>\n",
       "      <td>3 BHK</td>\n",
       "      <td>1521</td>\n",
       "      <td>3.0</td>\n",
       "      <td>95.00</td>\n",
       "    </tr>\n",
       "    <tr>\n",
       "      <th>4</th>\n",
       "      <td>Kothanur</td>\n",
       "      <td>2 BHK</td>\n",
       "      <td>1200</td>\n",
       "      <td>2.0</td>\n",
       "      <td>51.00</td>\n",
       "    </tr>\n",
       "  </tbody>\n",
       "</table>\n",
       "</div>"
      ],
      "text/plain": [
       "                   location       size total_sqft  bath   price\n",
       "0  Electronic City Phase II      2 BHK       1056   2.0   39.07\n",
       "1          Chikka Tirupathi  4 Bedroom       2600   5.0  120.00\n",
       "2               Uttarahalli      3 BHK       1440   2.0   62.00\n",
       "3        Lingadheeranahalli      3 BHK       1521   3.0   95.00\n",
       "4                  Kothanur      2 BHK       1200   2.0   51.00"
      ]
     },
     "execution_count": 5,
     "metadata": {},
     "output_type": "execute_result"
    }
   ],
   "source": [
    "def dataCleaning():\n",
    "    percent1 = totalRows*0.01\n",
    "    a = df2.isnull().sum()\n",
    "    s = sum(list(a))\n",
    "    if (s < percent1):\n",
    "        global df3\n",
    "        df3 = df2.dropna()\n",
    "    else:\n",
    "        print(\"Your data is missing beyond the Threshold of 1%, which might create discrepancies in model training. So, Clean the data and try again later!\")\n",
    "        exit()\n",
    "\n",
    "df3 = df2\n",
    "dataCleaning()\n",
    "df3.head(5)"
   ]
  },
  {
   "cell_type": "code",
   "execution_count": 6,
   "id": "4a63eb28",
   "metadata": {},
   "outputs": [
    {
     "name": "stderr",
     "output_type": "stream",
     "text": [
      "C:\\Users\\Anubhav\\AppData\\Local\\Temp\\ipykernel_20880\\466051181.py:1: SettingWithCopyWarning: \n",
      "A value is trying to be set on a copy of a slice from a DataFrame.\n",
      "Try using .loc[row_indexer,col_indexer] = value instead\n",
      "\n",
      "See the caveats in the documentation: https://pandas.pydata.org/pandas-docs/stable/user_guide/indexing.html#returning-a-view-versus-a-copy\n",
      "  df3['bhk'] = df3['size'].apply(lambda x: int(x.split(' ')[0]))\n"
     ]
    },
    {
     "data": {
      "text/html": [
       "<div>\n",
       "<style scoped>\n",
       "    .dataframe tbody tr th:only-of-type {\n",
       "        vertical-align: middle;\n",
       "    }\n",
       "\n",
       "    .dataframe tbody tr th {\n",
       "        vertical-align: top;\n",
       "    }\n",
       "\n",
       "    .dataframe thead th {\n",
       "        text-align: right;\n",
       "    }\n",
       "</style>\n",
       "<table border=\"1\" class=\"dataframe\">\n",
       "  <thead>\n",
       "    <tr style=\"text-align: right;\">\n",
       "      <th></th>\n",
       "      <th>location</th>\n",
       "      <th>total_sqft</th>\n",
       "      <th>bath</th>\n",
       "      <th>price</th>\n",
       "      <th>bhk</th>\n",
       "    </tr>\n",
       "  </thead>\n",
       "  <tbody>\n",
       "    <tr>\n",
       "      <th>0</th>\n",
       "      <td>Electronic City Phase II</td>\n",
       "      <td>1056</td>\n",
       "      <td>2.0</td>\n",
       "      <td>39.07</td>\n",
       "      <td>2</td>\n",
       "    </tr>\n",
       "    <tr>\n",
       "      <th>1</th>\n",
       "      <td>Chikka Tirupathi</td>\n",
       "      <td>2600</td>\n",
       "      <td>5.0</td>\n",
       "      <td>120.00</td>\n",
       "      <td>4</td>\n",
       "    </tr>\n",
       "    <tr>\n",
       "      <th>2</th>\n",
       "      <td>Uttarahalli</td>\n",
       "      <td>1440</td>\n",
       "      <td>2.0</td>\n",
       "      <td>62.00</td>\n",
       "      <td>3</td>\n",
       "    </tr>\n",
       "    <tr>\n",
       "      <th>3</th>\n",
       "      <td>Lingadheeranahalli</td>\n",
       "      <td>1521</td>\n",
       "      <td>3.0</td>\n",
       "      <td>95.00</td>\n",
       "      <td>3</td>\n",
       "    </tr>\n",
       "    <tr>\n",
       "      <th>4</th>\n",
       "      <td>Kothanur</td>\n",
       "      <td>1200</td>\n",
       "      <td>2.0</td>\n",
       "      <td>51.00</td>\n",
       "      <td>2</td>\n",
       "    </tr>\n",
       "  </tbody>\n",
       "</table>\n",
       "</div>"
      ],
      "text/plain": [
       "                   location total_sqft  bath   price  bhk\n",
       "0  Electronic City Phase II       1056   2.0   39.07    2\n",
       "1          Chikka Tirupathi       2600   5.0  120.00    4\n",
       "2               Uttarahalli       1440   2.0   62.00    3\n",
       "3        Lingadheeranahalli       1521   3.0   95.00    3\n",
       "4                  Kothanur       1200   2.0   51.00    2"
      ]
     },
     "execution_count": 6,
     "metadata": {},
     "output_type": "execute_result"
    }
   ],
   "source": [
    "df3['bhk'] = df3['size'].apply(lambda x: int(x.split(' ')[0]))\n",
    "df3 = df3.drop(['size'], axis=1)\n",
    "df3.head(5)"
   ]
  },
  {
   "cell_type": "code",
   "execution_count": 7,
   "id": "70fc9bb1",
   "metadata": {},
   "outputs": [],
   "source": [
    "def is_float(x):\n",
    "    try:\n",
    "        float(x)\n",
    "    except:\n",
    "        return False\n",
    "    return True"
   ]
  },
  {
   "cell_type": "code",
   "execution_count": 8,
   "id": "9c6cecdb",
   "metadata": {},
   "outputs": [],
   "source": [
    "def convert_sqrt_to_num(x):\n",
    "    tokens = x.split('-')\n",
    "    if len(tokens) == 2:\n",
    "        return (float(tokens[0])+float(tokens[1]))/2\n",
    "    try:\n",
    "        return float(x)\n",
    "    except:\n",
    "        return None"
   ]
  },
  {
   "cell_type": "code",
   "execution_count": 9,
   "id": "94008e91",
   "metadata": {},
   "outputs": [
    {
     "name": "stdout",
     "output_type": "stream",
     "text": [
      "\n",
      "Enter if an attribute contains a range of numerical value in a single row:(Y or N) y\n",
      "\n",
      "How many such attributes are there? 1\n",
      "\n",
      "Enter name of such Attribute: total_sqft\n",
      "\n",
      "               location   total_sqft  bath    price  bhk\n",
      "30            Yelahanka  2100 - 2850   4.0  186.000    4\n",
      "122              Hebbal  3067 - 8156   4.0  477.000    4\n",
      "137  8th Phase JP Nagar  1042 - 1105   2.0   54.005    2\n",
      "165            Sarjapur  1145 - 1340   2.0   43.490    2\n",
      "188            KR Puram  1015 - 1540   2.0   56.800    2\n",
      "\n",
      "\n",
      "The range of the attribute has been modified to a single value as: \n",
      "\n",
      "                   location  total_sqft  bath   price  bhk\n",
      "0  Electronic City Phase II      1056.0   2.0   39.07    2\n",
      "1          Chikka Tirupathi      2600.0   5.0  120.00    4\n",
      "2               Uttarahalli      1440.0   2.0   62.00    3\n"
     ]
    }
   ],
   "source": [
    "def remove_Range():\n",
    "    att = input(\"Enter name of such Attribute: \")\n",
    "    print()\n",
    "    df3_5 = (df3[~df3[att].apply(is_float)])\n",
    "    print(df3_5.head(5))\n",
    "    global df4\n",
    "    df4 = df3.copy()\n",
    "    df4[att] =df4[att].apply(convert_sqrt_to_num)\n",
    "    print(\"\\n\\nThe range of the attribute has been modified to a single value as: \\n\")\n",
    "    print(df4.head(3))\n",
    "    \n",
    "    \n",
    "ch = input(\"\\nEnter if an attribute contains a range of numerical value in a single row:(Y or N) \")\n",
    "df4 = df3\n",
    "if (ch==\"y\" or ch==\"Y\"):\n",
    "    n1 = int(input(\"\\nHow many such attributes are there? \"))\n",
    "    print()\n",
    "    for i in range(n1):\n",
    "        remove_Range()"
   ]
  },
  {
   "cell_type": "code",
   "execution_count": 10,
   "id": "5928ac67",
   "metadata": {},
   "outputs": [
    {
     "name": "stdout",
     "output_type": "stream",
     "text": [
      "\n",
      "Enter the name of attribute whose values are to be converted to unique columns: location\n"
     ]
    },
    {
     "data": {
      "text/html": [
       "<div>\n",
       "<style scoped>\n",
       "    .dataframe tbody tr th:only-of-type {\n",
       "        vertical-align: middle;\n",
       "    }\n",
       "\n",
       "    .dataframe tbody tr th {\n",
       "        vertical-align: top;\n",
       "    }\n",
       "\n",
       "    .dataframe thead th {\n",
       "        text-align: right;\n",
       "    }\n",
       "</style>\n",
       "<table border=\"1\" class=\"dataframe\">\n",
       "  <thead>\n",
       "    <tr style=\"text-align: right;\">\n",
       "      <th></th>\n",
       "      <th>location</th>\n",
       "      <th>total_sqft</th>\n",
       "      <th>bath</th>\n",
       "      <th>price</th>\n",
       "      <th>bhk</th>\n",
       "    </tr>\n",
       "  </thead>\n",
       "  <tbody>\n",
       "    <tr>\n",
       "      <th>0</th>\n",
       "      <td>Electronic City Phase II</td>\n",
       "      <td>1056.0</td>\n",
       "      <td>2.0</td>\n",
       "      <td>39.07</td>\n",
       "      <td>2</td>\n",
       "    </tr>\n",
       "    <tr>\n",
       "      <th>1</th>\n",
       "      <td>Chikka Tirupathi</td>\n",
       "      <td>2600.0</td>\n",
       "      <td>5.0</td>\n",
       "      <td>120.00</td>\n",
       "      <td>4</td>\n",
       "    </tr>\n",
       "    <tr>\n",
       "      <th>2</th>\n",
       "      <td>Uttarahalli</td>\n",
       "      <td>1440.0</td>\n",
       "      <td>2.0</td>\n",
       "      <td>62.00</td>\n",
       "      <td>3</td>\n",
       "    </tr>\n",
       "    <tr>\n",
       "      <th>3</th>\n",
       "      <td>Lingadheeranahalli</td>\n",
       "      <td>1521.0</td>\n",
       "      <td>3.0</td>\n",
       "      <td>95.00</td>\n",
       "      <td>3</td>\n",
       "    </tr>\n",
       "    <tr>\n",
       "      <th>4</th>\n",
       "      <td>Kothanur</td>\n",
       "      <td>1200.0</td>\n",
       "      <td>2.0</td>\n",
       "      <td>51.00</td>\n",
       "      <td>2</td>\n",
       "    </tr>\n",
       "  </tbody>\n",
       "</table>\n",
       "</div>"
      ],
      "text/plain": [
       "                   location  total_sqft  bath   price  bhk\n",
       "0  Electronic City Phase II      1056.0   2.0   39.07    2\n",
       "1          Chikka Tirupathi      2600.0   5.0  120.00    4\n",
       "2               Uttarahalli      1440.0   2.0   62.00    3\n",
       "3        Lingadheeranahalli      1521.0   3.0   95.00    3\n",
       "4                  Kothanur      1200.0   2.0   51.00    2"
      ]
     },
     "execution_count": 10,
     "metadata": {},
     "output_type": "execute_result"
    }
   ],
   "source": [
    "def remove_High_Dimensionality(column):\n",
    "    global df5\n",
    "    df5[col] = df5[col].apply(lambda x: x.strip())\n",
    "    column_stats = df5.groupby(col)[col].agg(\"count\").sort_values(ascending=False)\n",
    "    column_stats_less_than_10 = column_stats[column_stats<=10]\n",
    "    df5[col] = df5[col].apply(lambda x: 'other' if x in column_stats_less_than_10 else x)\n",
    "   \n",
    "\n",
    "df5 = df4.copy()\n",
    "col = input(\"\\nEnter the name of attribute whose values are to be converted to unique columns: \")\n",
    "remove_High_Dimensionality(col)\n",
    "df5.head(5)"
   ]
  },
  {
   "cell_type": "code",
   "execution_count": 11,
   "id": "37dc5637",
   "metadata": {},
   "outputs": [
    {
     "name": "stdout",
     "output_type": "stream",
     "text": [
      "\n",
      "For converting the data to Categorical Data, Hot-Encoding method is used!\n",
      "Enter the attribute name which you want to Hot-Encode: location\n",
      "\n",
      "\n"
     ]
    }
   ],
   "source": [
    "print(\"\\nFor converting the data to Categorical Data, Hot-Encoding method is used!\")\n",
    "hot_encode_name = input(\"Enter the attribute name which you want to Hot-Encode: \")\n",
    "dummies = pd.get_dummies(df5[hot_encode_name])\n",
    "#print(dummies.head(5))\n",
    "print(\"\\n\")\n",
    "df6 = pd.concat([df5, dummies.drop('other', axis='columns')], axis='columns')\n",
    "df7 = df6.drop(hot_encode_name, axis='columns')\n",
    "#print(df7.head(5))"
   ]
  },
  {
   "cell_type": "code",
   "execution_count": 12,
   "id": "95680456",
   "metadata": {},
   "outputs": [
    {
     "name": "stdout",
     "output_type": "stream",
     "text": [
      "Some columns in your Dataset still contain some Null Values as:  ['total_sqft']\n",
      "\n",
      "If the columns mentioned contain only Numerical values, then no need to worry at all.\n",
      "\n",
      "Enter if the Columns mentioned, contain only Numerical values (Y or N): y\n",
      "\n",
      "Enter the mathematical method that you want to use to fill missing values: Mean, Median or Mode? mean\n"
     ]
    }
   ],
   "source": [
    "l_null = list(df7.columns[df7.isna().any()])\n",
    "if (len(l_null) != 0):\n",
    "    print(\"Some columns in your Dataset still contain some Null Values as: \", l_null)\n",
    "    print(\"\\nIf the columns mentioned contain only Numerical values, then no need to worry at all.\")\n",
    "    null_ch = input(\"\\nEnter if the Columns mentioned, contain only Numerical values (Y or N): \")\n",
    "    if (null_ch == \"y\" or null_ch == \"Y\"):\n",
    "        method = input(\"\\nEnter the mathematical method that you want to use to fill missing values: Mean, Median or Mode? \")\n",
    "        if (method == \"mean\" or method == \"Mean\" or method == \"MEAN\"):\n",
    "            df7 = df7.fillna(df7.mean())\n",
    "        elif (method == \"mode\" or method == \"Mode\" or method == \"MODE\"):\n",
    "            df7 = df7.fillna(df7.mode())\n",
    "        elif (method == \"median\" or method == \"Median\" or method == \"MEDIAN\"):\n",
    "            df7 = df7.fillna(df7.median())\n",
    "            \n",
    "    else:\n",
    "        print(\"However, if any one of the column contains Alphanumeric Values, then clean the Dataset manually and try again later :(\")\n",
    "        exit()"
   ]
  },
  {
   "cell_type": "code",
   "execution_count": 13,
   "id": "db207d39",
   "metadata": {},
   "outputs": [
    {
     "name": "stdout",
     "output_type": "stream",
     "text": [
      "\n",
      "Enter the Dependant Variable (Column Name) that is to be predicted: price\n"
     ]
    }
   ],
   "source": [
    "dependant_variable = input(\"\\nEnter the Dependant Variable (Column Name) that is to be predicted: \")\n",
    "X = df7.drop(dependant_variable, axis='columns')\n",
    "# X.shape\n",
    "y = df7[dependant_variable]\n",
    "# y.shape"
   ]
  },
  {
   "cell_type": "code",
   "execution_count": 14,
   "id": "8b71f500",
   "metadata": {},
   "outputs": [],
   "source": [
    "from sklearn.model_selection import train_test_split\n",
    "X_train, X_test, y_train, y_test = train_test_split(X, y, test_size=0.1, random_state=42)"
   ]
  },
  {
   "cell_type": "code",
   "execution_count": 15,
   "id": "34bb6d0e",
   "metadata": {},
   "outputs": [],
   "source": [
    "score_accuracy = {\n",
    "    \"Linear Regression\": 0,\n",
    "    \"Lasso Regression\": 0,\n",
    "    \"Ridge Regression\": 0,\n",
    "    \"Decision Tree Regression\": 0,\n",
    "    \"Random Forest Regression\": 0,\n",
    "    \"SVM\": 0,\n",
    "    \"Gradient Boost\": 0,\n",
    "    \"KNN\": 0\n",
    "}"
   ]
  },
  {
   "cell_type": "code",
   "execution_count": 16,
   "id": "8e3e191e",
   "metadata": {},
   "outputs": [
    {
     "name": "stdout",
     "output_type": "stream",
     "text": [
      "\n",
      "PLEASE WAIT, Be Patient while we are Processing your Data!\n",
      "\n"
     ]
    }
   ],
   "source": [
    "print(\"\\nPLEASE WAIT, Be Patient while we are Processing your Data!\\n\")"
   ]
  },
  {
   "cell_type": "code",
   "execution_count": 17,
   "id": "a11a7c94",
   "metadata": {},
   "outputs": [],
   "source": [
    "def Linear_Regression_model(X_train, y_train):\n",
    "    from sklearn.linear_model import LinearRegression\n",
    "    global lrm, model\n",
    "    model = LinearRegression()\n",
    "    model.fit(X_train, y_train)\n",
    "    ms = model.score(X_test, y_test)*100\n",
    "    score_accuracy[\"Linear Regression\"] = ms\n",
    "    lrm = model\n",
    "    \n",
    "Linear_Regression_model(X_train, y_train)"
   ]
  },
  {
   "cell_type": "code",
   "execution_count": 18,
   "id": "90f4b15e",
   "metadata": {},
   "outputs": [],
   "source": [
    "def Lasso_Regression_model(X_train, y_train):\n",
    "    from sklearn.linear_model import Lasso\n",
    "    global lsrm\n",
    "    model = Lasso(alpha=0.1)\n",
    "    model.fit(X_train, y_train)\n",
    "    ms = model.score(X_test, y_test)*100\n",
    "    score_accuracy[\"Lasso Regression\"] = ms\n",
    "    lsrm = model\n",
    "    \n",
    "Lasso_Regression_model(X_train, y_train)"
   ]
  },
  {
   "cell_type": "code",
   "execution_count": 19,
   "id": "0857d540",
   "metadata": {},
   "outputs": [],
   "source": [
    "def Ridge_Regression_model(X_train, y_train):\n",
    "    from sklearn.linear_model import Ridge\n",
    "    global rrm\n",
    "    model = Ridge(alpha=0.1)\n",
    "    model.fit(X_train, y_train)\n",
    "    ms = model.score(X_test, y_test)*100\n",
    "    score_accuracy[\"Ridge Regression\"] = ms\n",
    "    rrm = model\n",
    "    \n",
    "Ridge_Regression_model(X_train, y_train)"
   ]
  },
  {
   "cell_type": "code",
   "execution_count": 20,
   "id": "9faa6fc9",
   "metadata": {},
   "outputs": [],
   "source": [
    "def DecisionTree_Regression_model(X_train, y_train):\n",
    "    from sklearn.tree import DecisionTreeRegressor\n",
    "    global drm\n",
    "    model = DecisionTreeRegressor()\n",
    "    model.fit(X_train, y_train)\n",
    "    ms = model.score(X_test, y_test)*100\n",
    "    score_accuracy[\"Decision Tree Regression\"] = ms\n",
    "    drm = model\n",
    "    \n",
    "DecisionTree_Regression_model(X_train, y_train)"
   ]
  },
  {
   "cell_type": "code",
   "execution_count": 21,
   "id": "6bea319d",
   "metadata": {},
   "outputs": [],
   "source": [
    "def RandomForest_Regression_model(X_train, y_train):\n",
    "    from sklearn.ensemble import RandomForestRegressor\n",
    "    global rfrm\n",
    "    model = RandomForestRegressor()\n",
    "    model.fit(X_train, y_train)\n",
    "    ms = model.score(X_test, y_test)*100\n",
    "    score_accuracy[\"Random Forest Regression\"] = ms\n",
    "    rfrm = model\n",
    "    \n",
    "RandomForest_Regression_model(X_train, y_train)"
   ]
  },
  {
   "cell_type": "code",
   "execution_count": 22,
   "id": "5e5e67cd",
   "metadata": {},
   "outputs": [],
   "source": [
    "def SupportVectorMachine_model(X_train, y_train):\n",
    "    from sklearn.svm import SVR\n",
    "    global svmm\n",
    "    model = SVR(kernel='rbf')\n",
    "    model.fit(X_train, y_train)\n",
    "    ms = model.score(X_test, y_test)*100\n",
    "    score_accuracy[\"SVM\"] = ms\n",
    "    svmm = model\n",
    "    \n",
    "SupportVectorMachine_model(X_train, y_train)"
   ]
  },
  {
   "cell_type": "code",
   "execution_count": 23,
   "id": "9738dbce",
   "metadata": {},
   "outputs": [],
   "source": [
    "def GradientBoosting_Regression_model(X_train, y_train):\n",
    "    from xgboost import XGBRegressor\n",
    "    global gbrm\n",
    "    model = XGBRegressor()\n",
    "    model.fit(X_train, y_train)\n",
    "    ms = model.score(X_test, y_test)*100\n",
    "    score_accuracy[\"Gradient Boost\"] = ms\n",
    "    gbrm = model\n",
    "    \n",
    "GradientBoosting_Regression_model(X_train, y_train)"
   ]
  },
  {
   "cell_type": "code",
   "execution_count": 24,
   "id": "14c897a0",
   "metadata": {},
   "outputs": [],
   "source": [
    "def KNN_Regression_model(X_train, y_train):\n",
    "    from sklearn.neighbors import KNeighborsRegressor\n",
    "    global knnrm\n",
    "    model = KNeighborsRegressor()\n",
    "    model.fit(X_train, y_train)\n",
    "    ms = model.score(X_test, y_test)*100\n",
    "    score_accuracy[\"KNN\"] = ms\n",
    "    knnrm = model\n",
    "\n",
    "KNN_Regression_model(X_train, y_train)"
   ]
  },
  {
   "cell_type": "code",
   "execution_count": 25,
   "id": "6a889abd",
   "metadata": {},
   "outputs": [
    {
     "name": "stdout",
     "output_type": "stream",
     "text": [
      "{'Linear Regression': 60.070991761411406, 'Lasso Regression': 58.30919940323401, 'Ridge Regression': 60.09639087022518, 'Decision Tree Regression': 52.61745078104797, 'Random Forest Regression': 57.41692043951352, 'SVM': 50.32413658807623, 'Gradient Boost': 58.050087748164714, 'KNN': 45.698885464672244}\n",
      "Ridge Regression\n"
     ]
    }
   ],
   "source": [
    "m = max(score_accuracy.values())\n",
    "mdl = max(zip(score_accuracy.values(), score_accuracy.keys()))[1]\n",
    "print(score_accuracy)\n",
    "print(mdl)"
   ]
  },
  {
   "cell_type": "code",
   "execution_count": 34,
   "id": "d1a8cd1b",
   "metadata": {},
   "outputs": [
    {
     "name": "stdout",
     "output_type": "stream",
     "text": [
      "\n",
      "Do you want model with Maximum Accuracy? (Y or N): n\n",
      "{'Linear Regression': 60.070991761411406, 'Lasso Regression': 58.30919940323401, 'Ridge Regression': 60.09639087022518, 'Decision Tree Regression': 52.61745078104797, 'Random Forest Regression': 57.41692043951352, 'SVM': 50.32413658807623, 'Gradient Boost': 58.050087748164714, 'KNN': 45.698885464672244} \n",
      "\n",
      "\n",
      "Enter model of your choice from above dictionary: KNN\n",
      "\n",
      "Congratulations(:D), Your preferred model saved succesfully!\n"
     ]
    }
   ],
   "source": [
    "import pickle\n",
    "choice = input(\"\\nDo you want model with Maximum Accuracy? (Y or N): \")\n",
    "if (choice==\"Y\" or choice==\"y\"):\n",
    "    if (mdl == \"Linear Regression\"):\n",
    "        model = lrm\n",
    "        with open('your_ML_model.pickle', 'wb') as f:\n",
    "            pickle.dump(model,f)\n",
    "\n",
    "    elif (mdl == \"Lasso Regression\"):\n",
    "        model = lsrm\n",
    "        with open('your_ML_model.pickle', 'wb') as f:\n",
    "            pickle.dump(model,f)\n",
    "\n",
    "    elif (mdl == \"Ridge Regression\"):\n",
    "        model = rrm\n",
    "        with open('your_ML_model.pickle', 'wb') as f:\n",
    "            pickle.dump(model,f)\n",
    "\n",
    "    elif (mdl == \"Decision Tree Regression\"):\n",
    "        model = drm\n",
    "        with open('your_ML_model.pickle', 'wb') as f:\n",
    "            pickle.dump(model,f)\n",
    "\n",
    "    elif (mdl == \"Random Forest Regression\"):\n",
    "        model = rfrm\n",
    "        with open('your_ML_model.pickle', 'wb') as f:\n",
    "            pickle.dump(model,f)\n",
    "\n",
    "    elif (mdl == \"SVM\"):\n",
    "        model = svmm\n",
    "        with open('your_ML_model.pickle', 'wb') as f:\n",
    "            pickle.dump(model,f)\n",
    "\n",
    "    elif (mdl == \"Gradient Boost\"):\n",
    "        model = gbrm\n",
    "        with open('your_ML_model.pickle', 'wb') as f:\n",
    "            pickle.dump(model,f)\n",
    "\n",
    "    elif (mdl == \"KNN\"):\n",
    "        model = knnrm\n",
    "        with open('your_ML_model.pickle', 'wb') as f:\n",
    "            pickle.dump(model,f)\n",
    "            \n",
    "else:\n",
    "    print(score_accuracy, \"\\n\")\n",
    "    choice_model = input(\"\\nEnter model of your choice from above dictionary: \")\n",
    "    if (choice_model == \"Linear Regression\"):\n",
    "        model = lrm\n",
    "        with open('your_ML_model.pickle', 'wb') as f:\n",
    "            pickle.dump(model,f)\n",
    "\n",
    "    elif (choice_model == \"Lasso Regression\"):\n",
    "        model = lsrm\n",
    "        with open('your_ML_model.pickle', 'wb') as f:\n",
    "            pickle.dump(model,f)\n",
    "\n",
    "    elif (choice_model == \"Ridge Regression\"):\n",
    "        model = rrm\n",
    "        with open('your_ML_model.pickle', 'wb') as f:\n",
    "            pickle.dump(model,f)\n",
    "\n",
    "    elif (choice_model == \"Decision Tree Regression\"):\n",
    "        model = drm\n",
    "        with open('your_ML_model.pickle', 'wb') as f:\n",
    "            pickle.dump(model,f)\n",
    "\n",
    "    elif (choice_model == \"Random Forest Regression\"):\n",
    "        model = rfrm\n",
    "        with open('your_ML_model.pickle', 'wb') as f:\n",
    "            pickle.dump(model,f)\n",
    "\n",
    "    elif (choice_model == \"SVM\"):\n",
    "        model = svmm\n",
    "        with open('your_ML_model.pickle', 'wb') as f:\n",
    "            pickle.dump(model,f)\n",
    "\n",
    "    elif (choice_model == \"Gradient Boost\"):\n",
    "        model = gbrm\n",
    "        with open('your_ML_model.pickle', 'wb') as f:\n",
    "            pickle.dump(model,f)\n",
    "\n",
    "    elif (choice_model == \"KNN\"):\n",
    "        model = knnrm\n",
    "        with open('your_ML_model.pickle', 'wb') as f:\n",
    "            pickle.dump(model,f)\n",
    "            \n",
    "import json\n",
    "columns = {\n",
    "    'data_columns': [col.lower() for col in X.columns]\n",
    "}\n",
    "with open(\"columns.json\", \"w\") as f:\n",
    "    f.write(json.dumps (columns))\n",
    "    \n",
    "print(\"\\nCongratulations(:D), Your preferred model saved succesfully!\")"
   ]
  },
  {
   "cell_type": "code",
   "execution_count": 35,
   "id": "6a6c6163",
   "metadata": {},
   "outputs": [],
   "source": [
    "def predict_data(location, sqft, bath, bhk):\n",
    "    loc_index = np.where (X.columns==location)[0][0]\n",
    "    x = np.zeros(len (X. columns))\n",
    "    x[0] = sqft\n",
    "    x[1] = bath\n",
    "    x[2] = bhk\n",
    "    if loc_index >= 0:\n",
    "        x[loc_index] = 1\n",
    "    return model.predict([x]) [0]"
   ]
  },
  {
   "cell_type": "code",
   "execution_count": 36,
   "id": "e98ee0d4",
   "metadata": {},
   "outputs": [
    {
     "name": "stdout",
     "output_type": "stream",
     "text": [
      "53.8\n"
     ]
    },
    {
     "name": "stderr",
     "output_type": "stream",
     "text": [
      "C:\\Python310\\lib\\site-packages\\sklearn\\base.py:409: UserWarning: X does not have valid feature names, but KNeighborsRegressor was fitted with feature names\n",
      "  warnings.warn(\n"
     ]
    }
   ],
   "source": [
    "print(predict_data('1st Phase JP Nagar',1000, 2, 2))"
   ]
  },
  {
   "cell_type": "code",
   "execution_count": null,
   "id": "10b39ba0",
   "metadata": {},
   "outputs": [],
   "source": []
  }
 ],
 "metadata": {
  "kernelspec": {
   "display_name": "Python 3 (ipykernel)",
   "language": "python",
   "name": "python3"
  },
  "language_info": {
   "codemirror_mode": {
    "name": "ipython",
    "version": 3
   },
   "file_extension": ".py",
   "mimetype": "text/x-python",
   "name": "python",
   "nbconvert_exporter": "python",
   "pygments_lexer": "ipython3",
   "version": "3.10.8"
  }
 },
 "nbformat": 4,
 "nbformat_minor": 5
}
